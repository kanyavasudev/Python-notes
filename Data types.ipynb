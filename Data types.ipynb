{
 "cells": [
  {
   "cell_type": "markdown",
   "id": "1ef883c0-0ebf-444a-9039-25b9accb4635",
   "metadata": {},
   "source": [
    "# Python Features\n",
    "- High level programming \n",
    "- Interpreted\n",
    "- Dynamic\n",
    "- Platform Independent\n",
    "- OOPS\n",
    "- Large community Support\n",
    "- Dense Libraries\n",
    "- Indendation"
   ]
  },
  {
   "cell_type": "markdown",
   "id": "0d4e30b7-409b-4a52-9aa5-e2de3c8c1a23",
   "metadata": {},
   "source": [
    "# Variables (or) Identifiers \n",
    "- cant start with symbols other than'_' \n",
    "- cant start with numbers \n",
    "- should be letter\n",
    "- cant be numbers\n",
    "- no space between the variables\n",
    "- Keywords should not used as variable name"
   ]
  },
  {
   "cell_type": "code",
   "execution_count": 4,
   "id": "7509bede-eb57-428e-b52c-0929d4527eae",
   "metadata": {},
   "outputs": [],
   "source": [
    "#Examples for Valid Variables: \n",
    "_abc=5\n",
    "abc = 3\n",
    "a_b_c = 1\n",
    "a1=6"
   ]
  },
  {
   "cell_type": "code",
   "execution_count": null,
   "id": "da7eda10-90fd-49c1-a9d1-b3c9af058342",
   "metadata": {},
   "outputs": [],
   "source": [
    "#Example for Invalid Variable \n",
    "$x=8\n",
    "apple juice=1\n",
    "float= 3"
   ]
  },
  {
   "cell_type": "markdown",
   "id": "173cc753-991b-4fc7-97b0-26a5ee97b554",
   "metadata": {},
   "source": [
    "## Data Types\n",
    "- int\n",
    "- float\n",
    "- str\n",
    "- bool\n",
    "- None\n",
    "- Complex\n",
    "### Sequence Data Types\n",
    "- range\n",
    "- lists\n",
    "- sets\n",
    "- tuple"
   ]
  },
  {
   "cell_type": "code",
   "execution_count": null,
   "id": "b6299d75-a348-4bbc-94ef-f7ef1bd55f07",
   "metadata": {},
   "outputs": [],
   "source": [
    "int = 3 #numerical\n",
    "float = 6.1 #decimal\n",
    "str = \"John\" #strings \n",
    "bool= True #conditional \n",
    "a = None #absence of value\n",
    "b=4j #complex "
   ]
  },
  {
   "cell_type": "code",
   "execution_count": 26,
   "id": "a49587ca-aed0-4918-a218-af3640f85506",
   "metadata": {},
   "outputs": [
    {
     "name": "stdout",
     "output_type": "stream",
     "text": [
      "1\n"
     ]
    }
   ],
   "source": [
    "a=1 #assinging a variable \n",
    "type(a) #type is used to find out the variable datatype\n",
    "print(a) #print is used to see the output (IDLE versions)"
   ]
  },
  {
   "cell_type": "markdown",
   "id": "ec64acc2-6f9b-40e7-8895-e0463bad90f2",
   "metadata": {},
   "source": [
    "# Converting the Data types from one form to another\n",
    "\n",
    "- Can convert int to float\n",
    "- Can convert float to int\n",
    "- Can convert int and float to str\n",
    "- Can convert int and float to complex and vice versa\n",
    "\n",
    "a1=1 **(int type)**\n",
    "\n",
    "b=float(a1) **converted to float type**\n",
    "\n",
    "**output**\n",
    "1.0"
   ]
  },
  {
   "cell_type": "code",
   "execution_count": 14,
   "id": "844f47a4-bd9a-43d9-bc86-b056f89214a5",
   "metadata": {},
   "outputs": [
    {
     "name": "stdout",
     "output_type": "stream",
     "text": [
      "1.0\n",
      "<class 'str'>\n"
     ]
    },
    {
     "data": {
      "text/plain": [
       "(3.1+0j)"
      ]
     },
     "execution_count": 14,
     "metadata": {},
     "output_type": "execute_result"
    }
   ],
   "source": [
    "a1=1 #converting the datatype\n",
    "b1=float(a1)\n",
    "print(b1)\n",
    "c1=88\n",
    "c2=str(c1)\n",
    "print(type(c2))\n",
    "d1=3.1\n",
    "d2=complex(d1)\n",
    "d2"
   ]
  },
  {
   "cell_type": "code",
   "execution_count": 17,
   "id": "f067a608-9313-4e8a-97ae-28cd495a9a5b",
   "metadata": {},
   "outputs": [
    {
     "name": "stdout",
     "output_type": "stream",
     "text": [
      "range(0, 5)\n"
     ]
    }
   ],
   "source": [
    "my_list=[1,2,3,4] #will be inserted in square brackets \n",
    "my_tuple=(1,2,3,4) #will be inserted in round brackets\n",
    "my_set={1,2,3,4} #will be inserted in curly brackets \n",
    "r=range(5)\n",
    "print(r)"
   ]
  },
  {
   "cell_type": "markdown",
   "id": "8737d99f-682d-4d93-80c4-80f9292894f0",
   "metadata": {},
   "source": [
    "# Operators\n",
    "## Arithmatic operators \n",
    "- add +\n",
    "- minus -\n",
    "- multiple *\n",
    "- divide -\n",
    "- modulo  gives the reminder\n",
    "- floor division gives the quotient\n",
    "- power  **\n",
    "\n",
    "## Comparison operators\n",
    "- Greater than\n",
    "- Lesser than\n",
    "- equal to\n",
    "- Not equal to\n",
    "\n",
    "## Assignment operators \n",
    "- Equal to\n",
    "- Plus equal to\n",
    "- Minus equal to\n",
    "\n",
    "## Logical Operators \n",
    "- AND\n",
    "- OR\n",
    "- NOT"
   ]
  },
  {
   "cell_type": "code",
   "execution_count": 16,
   "id": "bac21ee6-fc8f-4f5d-b5f6-c9f33057ff4b",
   "metadata": {},
   "outputs": [
    {
     "name": "stdout",
     "output_type": "stream",
     "text": [
      "True\n",
      "False\n",
      "True\n",
      "0\n",
      "8\n",
      "98\n",
      "10\n"
     ]
    }
   ],
   "source": [
    "a=88 #Assignment operator \n",
    "b=11 #assingment operator\n",
    "c=a+10 #plusqual to\n",
    "d=b-1  #minusequal to\n",
    "\n",
    "\n",
    "print(a>b) #greater than\n",
    "print(a<b) #less than\n",
    "print(a!=b) #not equal to \n",
    "print(a%b) #modulo\n",
    "print(a//b) #floor division\n",
    "print(c)\n",
    "print(d)"
   ]
  }
 ],
 "metadata": {
  "kernelspec": {
   "display_name": "Python 3 (ipykernel)",
   "language": "python",
   "name": "python3"
  },
  "language_info": {
   "codemirror_mode": {
    "name": "ipython",
    "version": 3
   },
   "file_extension": ".py",
   "mimetype": "text/x-python",
   "name": "python",
   "nbconvert_exporter": "python",
   "pygments_lexer": "ipython3",
   "version": "3.13.5"
  }
 },
 "nbformat": 4,
 "nbformat_minor": 5
}
