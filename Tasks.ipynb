{
 "cells": [
  {
   "cell_type": "markdown",
   "id": "4c7fbef1-badd-4b0e-8b67-6847378f13c1",
   "metadata": {},
   "source": [
    "# Task\n",
    "1. Create sample variables of each data structure we covered: list, tuple, string, dictionary, and set.  \n",
    "2. Experiment with basic operations like indexing, slicing, adding/removing elements (where applicable), and membership tests.  \n",
    "3. Try a simple mini-project—for instance, parse a sentence into words and use a set to get unique words, then count frequencies using a dict."
   ]
  },
  {
   "cell_type": "code",
   "execution_count": 1,
   "id": "8c32fa9d-eec3-495c-b418-d889893d04a7",
   "metadata": {},
   "outputs": [
    {
     "name": "stdout",
     "output_type": "stream",
     "text": [
      "[8, 7, 9, 'addition', 99j, 'multiplication', 55.1, 'subtraction', 'division']\n",
      "(44, 55, 67, 33.4)\n",
      "Hello, This is kanya\n"
     ]
    }
   ],
   "source": [
    "#List Operations\n",
    "my_list=[8,7,9,\"addition\",99j,\"multiplication\",55.1,\"subtraction\",\"division\"]\n",
    "print(my_list)\n",
    "my_tuple=(44,55,67,33.4)\n",
    "print(my_tuple)\n",
    "string=\"Hello, This is kanya\"\n",
    "print(string)\n",
    "myset = {\"apple\", \"banana\", \"cherry\"}"
   ]
  },
  {
   "cell_type": "code",
   "execution_count": 31,
   "id": "3fa6ae99-2401-4f1d-82cd-e5e8b6a2e86d",
   "metadata": {},
   "outputs": [
    {
     "name": "stdout",
     "output_type": "stream",
     "text": [
      "Slicing the elements from 2 to 6: ['addition', 99j, 'multiplication', 55.1, 'subtraction']\n",
      "Slicing the elements using negative indexing [8, 7, 'addition', 99j, 'multiplication', 55.1]\n",
      "Reversing the elements in the list: ['Fraction', 'division', 'subtraction', 55.1, 'multiplication', 99j, 'addition', 7, 8]\n"
     ]
    },
    {
     "data": {
      "text/plain": [
       "[8,\n",
       " 7,\n",
       " 'addition',\n",
       " 99j,\n",
       " 'multiplication',\n",
       " 55.1,\n",
       " 'subtraction',\n",
       " 'division',\n",
       " 'Fraction',\n",
       " 'Fraction']"
      ]
     },
     "execution_count": 31,
     "metadata": {},
     "output_type": "execute_result"
    }
   ],
   "source": [
    "print(\"Slicing the elements from 2 to 6:\",my_list[2:7])\n",
    "print(\"Slicing the elements using negative indexing\",my_list[:-3])\n",
    "print(\"Reversing the elements in the list:\",my_list[::-1])\n",
    "my_list.append('Fraction')\n",
    "my_list\n"
   ]
  },
  {
   "cell_type": "code",
   "execution_count": 32,
   "id": "109f1980-df90-4dda-9d2b-a44d49b215f8",
   "metadata": {},
   "outputs": [
    {
     "data": {
      "text/plain": [
       "[8,\n",
       " 7,\n",
       " 'addition',\n",
       " 99j,\n",
       " 'multiplication',\n",
       " 55.1,\n",
       " 'subtraction',\n",
       " 'division',\n",
       " 'Fraction']"
      ]
     },
     "execution_count": 32,
     "metadata": {},
     "output_type": "execute_result"
    }
   ],
   "source": [
    "my_list.remove('Fraction')\n",
    "my_list"
   ]
  },
  {
   "cell_type": "code",
   "execution_count": 30,
   "id": "3f301fd4-a7fc-441a-9950-c2c843f4eaad",
   "metadata": {},
   "outputs": [
    {
     "name": "stdout",
     "output_type": "stream",
     "text": [
      "[10, 20, 40, 50]\n",
      "Removed element: 30\n"
     ]
    }
   ],
   "source": [
    "#removing an element from list using indexing\n",
    "a= [10, 20, 30, 40, 50]\n",
    "b= a.pop(2)  # Removes the element at index 1\n",
    "print(a)\n",
    "print(f\"Removed element: {b}\")"
   ]
  },
  {
   "cell_type": "code",
   "execution_count": null,
   "id": "36cac7ad-9be7-4ce6-9213-2efa46351fc0",
   "metadata": {},
   "outputs": [],
   "source": [
    "#finding the largest element in a list without max method\n",
    "l=[55,88,91,30,63]\n",
    "l.sort(reverse=True) #reversing a list in descending order\n",
    "print(l[0])\n",
    "print(l)"
   ]
  },
  {
   "cell_type": "code",
   "execution_count": 38,
   "id": "7c240ec7-7a2f-42de-b4b6-647741c656fb",
   "metadata": {},
   "outputs": [
    {
     "name": "stdin",
     "output_type": "stream",
     "text": [
      "Enter the number 64\n"
     ]
    },
    {
     "name": "stdout",
     "output_type": "stream",
     "text": [
      "n is an even number\n"
     ]
    }
   ],
   "source": [
    "n=int(input(\"Enter the number\"))\n",
    "if(n%2==0):\n",
    "    print(\"n is an even number\")\n",
    "else:\n",
    "    print(\"n is an odd number\")"
   ]
  },
  {
   "cell_type": "code",
   "execution_count": 39,
   "id": "663d16ba-904e-4bef-b931-14ace1a36790",
   "metadata": {},
   "outputs": [
    {
     "name": "stdin",
     "output_type": "stream",
     "text": [
      "Enter a 5\n",
      "Enter b 8\n"
     ]
    },
    {
     "name": "stdout",
     "output_type": "stream",
     "text": [
      "A is Lesser than B\n"
     ]
    }
   ],
   "source": [
    "a=int(input(\"Enter a\"))\n",
    "b=int(input(\"Enter b\"))\n",
    "if(a>b):\n",
    "    print(\"A is Greater than B\")\n",
    "elif(a<b):\n",
    "    print(\"A is Lesser than B\")\n",
    "else:\n",
    "    print(\"A is Equal to B\")"
   ]
  },
  {
   "cell_type": "code",
   "execution_count": 44,
   "id": "07a3bc53-c58a-4cd1-a123-aac46701d643",
   "metadata": {},
   "outputs": [
    {
     "name": "stdin",
     "output_type": "stream",
     "text": [
      "Enter the number -11\n"
     ]
    },
    {
     "name": "stdout",
     "output_type": "stream",
     "text": [
      "Given number is negative and odd\n"
     ]
    }
   ],
   "source": [
    "num=int(input(\"Enter the number\"))\n",
    "if(num>0):\n",
    "    if(num%2==0):\n",
    "        print(\"Given Number is positive and even\")\n",
    "    else:\n",
    "        print(\"Given Number is positive and odd\")\n",
    "elif(num%2>0):\n",
    "    print(\"Given number is negative and odd\")\n",
    "else:\n",
    "    print(\"Given number is negative and even\")"
   ]
  },
  {
   "cell_type": "code",
   "execution_count": 46,
   "id": "3965a75a-c119-4259-ae35-159b8e6fcb2c",
   "metadata": {},
   "outputs": [
    {
     "data": {
      "text/plain": [
       "float"
      ]
     },
     "execution_count": 46,
     "metadata": {},
     "output_type": "execute_result"
    }
   ],
   "source": [
    "a=5.9\n",
    "type(a)"
   ]
  },
  {
   "cell_type": "code",
   "execution_count": 9,
   "id": "e0b80b61-9567-4e45-8743-8d28e9cb0601",
   "metadata": {},
   "outputs": [
    {
     "name": "stdout",
     "output_type": "stream",
     "text": [
      "['HelloWorld!This', 'is', 'kanya']\n"
     ]
    }
   ],
   "source": [
    "a = \"HelloWorld!This is kanya\"\n",
    "b = a.split()\n",
    "print(b)"
   ]
  },
  {
   "cell_type": "code",
   "execution_count": 62,
   "id": "bfe032c1-5cdb-42bb-912b-55c32623565c",
   "metadata": {},
   "outputs": [
    {
     "name": "stdout",
     "output_type": "stream",
     "text": [
      "World!\n"
     ]
    }
   ],
   "source": [
    "txt = \"Hello\\rWorld!\" \n",
    "print(txt)"
   ]
  },
  {
   "cell_type": "code",
   "execution_count": 3,
   "id": "8f34266d-b65a-49f1-8e55-158b6183b6c7",
   "metadata": {},
   "outputs": [
    {
     "name": "stdout",
     "output_type": "stream",
     "text": [
      "{1, 'apple', 'banana', 2, 'cherry', 3}\n"
     ]
    }
   ],
   "source": [
    "myset = {\"apple\", \"banana\", \"cherry\"}\n",
    "set2 = {1, 2, 3}\n",
    "\n",
    "set3 = myset.union(set2)\n",
    "print(set3)"
   ]
  },
  {
   "cell_type": "code",
   "execution_count": 6,
   "id": "3b011afe-4a24-464d-a08f-548174612570",
   "metadata": {},
   "outputs": [
    {
     "name": "stdout",
     "output_type": "stream",
     "text": [
      "{1, 'apple', 'banana', 2, 'cherry', 3}\n"
     ]
    }
   ],
   "source": [
    "myset = {\"apple\", \"banana\", \"cherry\"}\n",
    "set2 = {1, 2, 3}\n",
    "\n",
    "set3 = myset.union(set2)\n",
    "print(set3)"
   ]
  },
  {
   "cell_type": "code",
   "execution_count": 5,
   "id": "6bfe3714-cc00-41fc-9aee-50b08d80f60e",
   "metadata": {},
   "outputs": [
    {
     "name": "stdout",
     "output_type": "stream",
     "text": [
      "{1, 2, 3, 'b', 'a', 'c'}\n"
     ]
    }
   ],
   "source": [
    "set1 = {\"a\", \"b\" , \"c\"}\n",
    "set2 = {1, 2, 3}\n",
    "\n",
    "set1.update(set2)\n",
    "print(set1)"
   ]
  },
  {
   "cell_type": "code",
   "execution_count": 13,
   "id": "78794df6-876d-411a-95b3-5b8a49c012cf",
   "metadata": {},
   "outputs": [
    {
     "name": "stdout",
     "output_type": "stream",
     "text": [
      "{'Manifest': 2, 'Rosa': 1, 2012: 1, 1500: 1}\n",
      "{'Bookname': 'Manifest', 'Authorname': 'Rosa', 'Publised year': 2012, 'Soldcopies': 1500, 'Book': 'Manifest'}\n"
     ]
    }
   ],
   "source": [
    "e={}\n",
    "d={\"Bookname\":\"Manifest\", \"Authorname\":\"Rosa\", \"Publised year\": 2012,\"Soldcopies\":1500,\"Book\":\"Manifest\"}\n",
    "for i in d.values():\n",
    "    if i in e:\n",
    "        e[i]=e[i]+1\n",
    "    else:\n",
    "        e[i]=1\n",
    "print(e)\n",
    "print(d)\n"
   ]
  },
  {
   "cell_type": "code",
   "execution_count": 8,
   "id": "32af8e8a-5513-455e-84fe-3eae17c24d36",
   "metadata": {},
   "outputs": [
    {
     "name": "stdout",
     "output_type": "stream",
     "text": [
      "llo, \n"
     ]
    }
   ],
   "source": [
    "string=\"Hello, This is kanya\"\n",
    "new=string[2:7]\n",
    "print(new)"
   ]
  },
  {
   "cell_type": "code",
   "execution_count": 38,
   "id": "95f56755-d88c-4452-a1d5-50b599ba6833",
   "metadata": {},
   "outputs": [
    {
     "name": "stdin",
     "output_type": "stream",
     "text": [
      "Enter the booking time 14\n"
     ]
    },
    {
     "name": "stdout",
     "output_type": "stream",
     "text": [
      "Entry Allowed\n"
     ]
    }
   ],
   "source": [
    "bookingtime=int(input(\"Enter the booking time\"))\n",
    "if (bookingtime<18): #railwayformat\n",
    "    print(\"Entry Allowed\")\n",
    "else:\n",
    "    print(\"Entry Not Allowed\")"
   ]
  },
  {
   "cell_type": "code",
   "execution_count": 42,
   "id": "94f0c614-1c08-4a72-8dff-ef0388fdc20f",
   "metadata": {},
   "outputs": [
    {
     "name": "stdout",
     "output_type": "stream",
     "text": [
      "Its is decimal number\n"
     ]
    }
   ],
   "source": [
    "number=77.89\n",
    "if number%1 !=0:\n",
    "    print(\"Its is decimal number\")\n",
    "else:\n",
    "    print(\"Its is not decimal number\")"
   ]
  },
  {
   "cell_type": "code",
   "execution_count": 44,
   "id": "654cb15e-2e93-4868-afa7-4b196b06705f",
   "metadata": {},
   "outputs": [
    {
     "name": "stdout",
     "output_type": "stream",
     "text": [
      "Tuesday\n"
     ]
    }
   ],
   "source": [
    "n=2\n",
    "if(n==1):\n",
    "    print(\"Monday\")\n",
    "elif(n==2):\n",
    "    print(\"Tuesday\")\n",
    "elif(n==3):\n",
    "    print(\"Wednesday\")\n",
    "elif(n==4):\n",
    "    print(\"Thursday\")\n",
    "elif(n==5):\n",
    "    print(\"Friday\")\n",
    "elif(n==6):\n",
    "    print(\"Saturday\")\n",
    "elif(n==7):\n",
    "    print(\"Sunday\")\n",
    "else:\n",
    "    print(\"A Week has only 7 days\")"
   ]
  },
  {
   "cell_type": "code",
   "execution_count": 8,
   "id": "22bb7089-8e20-45fe-bd86-dd1fdb5a2b7e",
   "metadata": {},
   "outputs": [
    {
     "name": "stdin",
     "output_type": "stream",
     "text": [
      "Enter PIN Number 8787\n"
     ]
    },
    {
     "name": "stdout",
     "output_type": "stream",
     "text": [
      "You can proceed with withdrawal\n"
     ]
    },
    {
     "name": "stdin",
     "output_type": "stream",
     "text": [
      "Enter the amount 800\n"
     ]
    },
    {
     "name": "stdout",
     "output_type": "stream",
     "text": [
      "Withdrawal successful\n"
     ]
    }
   ],
   "source": [
    "balance=1500\n",
    "pin=input(\"Enter PIN Number\")\n",
    "if(len(pin))==4 and pin.isdigit():\n",
    "    print(\"You can proceed with withdrawal\")\n",
    "    amount=int(input(\"Enter the amount\"))\n",
    "    if(balance< amount):\n",
    "        print(\"No suffient balance\")\n",
    "    else:\n",
    "        print(\"Withdrawal successful\")\n",
    "else:\n",
    "    print(\"Invalid Pin\")"
   ]
  },
  {
   "cell_type": "code",
   "execution_count": 30,
   "id": "1fb3df06-7fd4-4e25-98bf-74d4f919fce1",
   "metadata": {},
   "outputs": [
    {
     "name": "stdout",
     "output_type": "stream",
     "text": [
      "['This', 'is', 'my', 'example', 'sentence', 'for', 'for', 'a', 'mini', 'mini', 'project']\n",
      "<class 'list'>\n"
     ]
    }
   ],
   "source": [
    "sentence=\"This is my example sentence for for a mini mini project\"\n",
    "words=sentence.split()\n",
    "print(words)\n",
    "print(type(words))"
   ]
  },
  {
   "cell_type": "code",
   "execution_count": 32,
   "id": "f6c642f2-11bd-4abe-851d-7448fb0c1749",
   "metadata": {},
   "outputs": [
    {
     "name": "stdout",
     "output_type": "stream",
     "text": [
      "['This', 'is', 'my', 'example', 'sentence', 'for', 'for', 'a', 'mini', 'mini', 'project']\n",
      "{'is', 'This', 'example', 'my', 'sentence', 'for', 'project', 'a', 'mini'}\n"
     ]
    }
   ],
   "source": [
    "uniquewords=set(words)\n",
    "print(words) #list allows duplicate\n",
    "print(uniquewords) #set does not allow duplicate"
   ]
  },
  {
   "cell_type": "code",
   "execution_count": 29,
   "id": "7ba5a33f-0ab0-4527-b472-bb69cdefd087",
   "metadata": {},
   "outputs": [
    {
     "name": "stdout",
     "output_type": "stream",
     "text": [
      "{'This': 1, 'is': 1, 'my': 1, 'example': 1, 'sentence': 1, 'for': 2, 'a': 1, 'mini': 2, 'project': 1}\n"
     ]
    }
   ],
   "source": [
    "words=['This', 'is', 'my', 'example', 'sentence', 'for','for', 'a', 'mini', 'mini', 'project']\n",
    "count={} #empty dictionary\n",
    "for i in words:\n",
    "    if i in count:\n",
    "        count[i]=count[i]+1\n",
    "    else:\n",
    "        count[i]=1\n",
    "print(count)"
   ]
  },
  {
   "cell_type": "code",
   "execution_count": 68,
   "id": "4ca752b8-fde4-4e5b-acd5-b12549b32dd7",
   "metadata": {},
   "outputs": [
    {
     "name": "stdout",
     "output_type": "stream",
     "text": [
      "1\n",
      "2\n",
      "3\n",
      "4\n",
      "5\n",
      "6\n",
      "7\n",
      "8\n",
      "9\n",
      "10\n"
     ]
    }
   ],
   "source": [
    "for i in range(1,11):#printing numbers in range\n",
    "    print(i)"
   ]
  },
  {
   "cell_type": "code",
   "execution_count": 69,
   "id": "60842b2f-b75a-479d-882a-a9597651e7cc",
   "metadata": {},
   "outputs": [
    {
     "name": "stdout",
     "output_type": "stream",
     "text": [
      "2\n",
      "4\n",
      "6\n",
      "8\n",
      "10\n",
      "12\n",
      "14\n",
      "16\n",
      "18\n",
      "20\n"
     ]
    }
   ],
   "source": [
    "for i in range(1,21): #even numbers only\n",
    "    if(i%2==0):\n",
    "        print(i)"
   ]
  },
  {
   "cell_type": "code",
   "execution_count": 70,
   "id": "eb78cceb-5af9-4b08-a41a-326d0f925895",
   "metadata": {},
   "outputs": [
    {
     "name": "stdout",
     "output_type": "stream",
     "text": [
      "('Square of the number', 1)\n",
      "('Square of the number', 4)\n",
      "('Square of the number', 9)\n",
      "('Square of the number', 16)\n",
      "('Square of the number', 25)\n",
      "('Square of the number', 36)\n",
      "('Square of the number', 49)\n",
      "('Square of the number', 64)\n",
      "('Square of the number', 81)\n",
      "('Square of the number', 100)\n"
     ]
    }
   ],
   "source": [
    "for i in range(1,11): #square of the numbers\n",
    "    print(f'{\"Square of the number\", i*i}') "
   ]
  },
  {
   "cell_type": "code",
   "execution_count": 65,
   "id": "d3301ba9-7f22-4f52-9bbf-6b03703bcd2f",
   "metadata": {},
   "outputs": [
    {
     "name": "stdout",
     "output_type": "stream",
     "text": [
      "kanya\n",
      "keerthana\n",
      "geetha\n",
      "swathi\n",
      "preethi\n"
     ]
    }
   ],
   "source": [
    "names=['kanya','keerthana','geetha','swathi','preethi']\n",
    "index=[]\n",
    "for i in range(len(names)):\n",
    "    print(names[i])\n",
    "    "
   ]
  },
  {
   "cell_type": "code",
   "execution_count": 71,
   "id": "3bc81875-6b8c-4927-9834-49b607e379a8",
   "metadata": {},
   "outputs": [
    {
     "name": "stdout",
     "output_type": "stream",
     "text": [
      "Hello kanya\n",
      "Hello keerthana\n",
      "Hello geetha\n",
      "Hello swathi\n",
      "Hello preethi\n"
     ]
    }
   ],
   "source": [
    "names=['kanya','keerthana','geetha','swathi','preethi']\n",
    "for i in names: #printing hello in front of names\n",
    "    print(f'{\"Hello\"}',i)"
   ]
  },
  {
   "cell_type": "code",
   "execution_count": 72,
   "id": "cba1b7dd-4b30-46d5-b426-5c22349a6600",
   "metadata": {},
   "outputs": [
    {
     "name": "stdout",
     "output_type": "stream",
     "text": [
      "1\n",
      "2\n",
      "3\n",
      "4\n",
      "6\n",
      "7\n",
      "8\n",
      "9\n"
     ]
    }
   ],
   "source": [
    "for i in range(1,11):\n",
    "    if(i%5!=0): #numbers not divisble by 5\n",
    "        print(i)"
   ]
  },
  {
   "cell_type": "code",
   "execution_count": 73,
   "id": "efc6c71f-9ded-42a2-ac16-fdaea80b70a9",
   "metadata": {},
   "outputs": [
    {
     "name": "stdout",
     "output_type": "stream",
     "text": [
      "1 is Odd\n",
      "2 is Even\n",
      "3 is Odd\n",
      "4 is Even\n",
      "5 is Odd\n",
      "6 is Even\n",
      "7 is Odd\n",
      "8 is Even\n",
      "9 is Odd\n",
      "10 is Even\n",
      "11 is Odd\n",
      "12 is Even\n",
      "13 is Odd\n",
      "14 is Even\n",
      "15 is Odd\n",
      "16 is Even\n",
      "17 is Odd\n",
      "18 is Even\n",
      "19 is Odd\n"
     ]
    }
   ],
   "source": [
    "for i in range(1,20):\n",
    "    if(i%2==0):\n",
    "        print(i,f'{\"is Even\"}')\n",
    "    else:\n",
    "        print(i,f'{\"is Odd\"}')"
   ]
  },
  {
   "cell_type": "code",
   "execution_count": 74,
   "id": "6444dfdf-c63e-4e3b-a38e-e4927675b078",
   "metadata": {},
   "outputs": [
    {
     "name": "stdout",
     "output_type": "stream",
     "text": [
      "1\n",
      "2\n",
      "3\n",
      "4\n",
      "5\n",
      "6\n"
     ]
    }
   ],
   "source": [
    "n=[1,2,3,4,5,6,-7,-5,-4,-3]\n",
    "for i in n:\n",
    "    if(i>0):\n",
    "        print(i)"
   ]
  },
  {
   "cell_type": "code",
   "execution_count": 75,
   "id": "675cff9b-1c81-49f3-a00f-8463e0dd125f",
   "metadata": {},
   "outputs": [
    {
     "name": "stdout",
     "output_type": "stream",
     "text": [
      "5x 1 = 5\n",
      "5x 2 = 10\n",
      "5x 3 = 15\n",
      "5x 4 = 20\n",
      "5x 5 = 25\n"
     ]
    }
   ],
   "source": [
    "for i in range(1,6):\n",
    "    print(f'{\"5x\"}',i,\"=\",i*5)"
   ]
  },
  {
   "cell_type": "code",
   "execution_count": 33,
   "id": "4c283dd8-c721-4509-8889-d00d44fb92fd",
   "metadata": {},
   "outputs": [
    {
     "name": "stdout",
     "output_type": "stream",
     "text": [
      "1\n",
      "2\n",
      "3\n",
      "4\n",
      "5\n",
      "\n",
      "2\n",
      "4\n",
      "6\n",
      "8\n",
      "10\n",
      "\n",
      "3\n",
      "6\n",
      "9\n",
      "12\n",
      "15\n",
      "\n",
      "4\n",
      "8\n",
      "12\n",
      "16\n",
      "20\n",
      "\n",
      "5\n",
      "10\n",
      "15\n",
      "20\n",
      "25\n",
      "\n"
     ]
    }
   ],
   "source": [
    "for i in range(1, 6): #[1,2,3,4,5]\n",
    "    for j in range(1,6): #[1,2,3,4,5]\n",
    "         print(i*j)\n",
    "    print()"
   ]
  },
  {
   "cell_type": "code",
   "execution_count": 36,
   "id": "9811c3b6-cef0-467a-9f3a-90aa87ea824c",
   "metadata": {},
   "outputs": [
    {
     "name": "stdout",
     "output_type": "stream",
     "text": [
      "Factorial: 120\n"
     ]
    }
   ],
   "source": [
    "#factorial\n",
    "fact = 1\n",
    "num = 5\n",
    "for i in range(1, num + 1):\n",
    "    fact = fact* i\n",
    "print(\"Factorial:\", fact)"
   ]
  },
  {
   "cell_type": "code",
   "execution_count": null,
   "id": "0306fb63-1cd5-41f9-9a05-27cfbe49fa4b",
   "metadata": {},
   "outputs": [],
   "source": []
  }
 ],
 "metadata": {
  "kernelspec": {
   "display_name": "Python 3 (ipykernel)",
   "language": "python",
   "name": "python3"
  },
  "language_info": {
   "codemirror_mode": {
    "name": "ipython",
    "version": 3
   },
   "file_extension": ".py",
   "mimetype": "text/x-python",
   "name": "python",
   "nbconvert_exporter": "python",
   "pygments_lexer": "ipython3",
   "version": "3.13.5"
  }
 },
 "nbformat": 4,
 "nbformat_minor": 5
}
