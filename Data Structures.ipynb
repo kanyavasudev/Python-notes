{
 "cells": [
  {
   "cell_type": "markdown",
   "id": "4f6483ec-415d-436b-88ac-5f6950326f02",
   "metadata": {},
   "source": [
    "# Data Structures \n",
    "- Tuple\n",
    "- list\n",
    "- set\n",
    "- string\n",
    "- dictionary\n",
    "\n",
    "##  Tuple\n",
    "- x=(1,2,3,4,5) - Paranthesis brackets, mandatory comma separated \n",
    "- Accepts all datatypes\n",
    "- Immutable(Cannot change the value)\n",
    "- Ordered \n",
    "- Memory Efficiency\n",
    "- Security like password\n",
    "- Indexed\n",
    "  \n",
    "## Lists \n",
    "- x=[1,2,3,4,5] - mandatory Square brackets\n",
    "- Accepts all data types\n",
    "- Mutable(Can Change the values)\n",
    "- Ordered\n",
    "  \n",
    "## Set\n",
    "- x={1,2,3,4,5} - Curly brackets\n",
    "- mutable\n",
    "- unordered\n",
    "- unindexed\n",
    "- no duplicate values automatically removes\n",
    "- elements types can be stores like numbers, strings\n",
    "\n",
    "## String \n",
    "- x=\"Apple\" - Quotes\n",
    "- immutable\n",
    "- partially mutable using function replace\n",
    "- Indexed\n",
    "\n",
    "## Dictionary \n",
    "-{key:value, key:value}\n",
    "-{x:1, y:2}\n",
    "-- key value pairs\n",
    "- Unordered\n",
    "- Unindexed\n",
    "- Mutable\n",
    "- Key should be not duplicate values\n",
    "- Key should be immutable\n",
    "- Values can be any data types\n",
    "\n",
    "\n",
    "# Indexing\n",
    "- Can access elements using []\n",
    "## Positive indexing\n",
    "- (0,1,2,3,4) from first to last\n",
    "## Negative Indexing\n",
    "- (-5,-4,-3,-2,-1) from last to first"
   ]
  },
  {
   "cell_type": "code",
   "execution_count": 32,
   "id": "56fe7015-ae0f-493d-b085-20662a8ee81b",
   "metadata": {},
   "outputs": [
    {
     "data": {
      "text/plain": [
       "tuple"
      ]
     },
     "execution_count": 32,
     "metadata": {},
     "output_type": "execute_result"
    }
   ],
   "source": [
    "#Tuple Example\n",
    "t=(1,2,3,4,5)\n",
    "t1=2,\n",
    "type(t1) #brackets is not important\n"
   ]
  },
  {
   "cell_type": "code",
   "execution_count": 31,
   "id": "0eeb9c81-5f0a-43fb-a74d-c2574d3b19db",
   "metadata": {},
   "outputs": [
    {
     "data": {
      "text/plain": [
       "int"
      ]
     },
     "execution_count": 31,
     "metadata": {},
     "output_type": "execute_result"
    }
   ],
   "source": [
    "t2=(2)\n",
    "type(t2)"
   ]
  },
  {
   "cell_type": "code",
   "execution_count": 48,
   "id": "5ef90cec-cc59-4a84-a779-10cfe4fa6cb0",
   "metadata": {},
   "outputs": [
    {
     "data": {
      "text/plain": [
       "[7, 2, 3, 4, 5]"
      ]
     },
     "execution_count": 48,
     "metadata": {},
     "output_type": "execute_result"
    }
   ],
   "source": [
    "#List Example\n",
    "l=[1,2,3,4,5]\n",
    "l[0]=7\n",
    "l"
   ]
  },
  {
   "cell_type": "code",
   "execution_count": 34,
   "id": "7ae1bc68-7a29-4a7d-b671-08611137a4af",
   "metadata": {},
   "outputs": [
    {
     "data": {
      "text/plain": [
       "list"
      ]
     },
     "execution_count": 34,
     "metadata": {},
     "output_type": "execute_result"
    }
   ],
   "source": [
    "l1=[1]\n",
    "type(l1)"
   ]
  },
  {
   "cell_type": "code",
   "execution_count": 35,
   "id": "3f9b5458-959c-44eb-b116-024577c98985",
   "metadata": {},
   "outputs": [],
   "source": [
    "#empty list\n",
    "l=[]"
   ]
  },
  {
   "cell_type": "code",
   "execution_count": 38,
   "id": "abc9e86f-9d8f-4b9c-972e-8f781170b24a",
   "metadata": {},
   "outputs": [
    {
     "data": {
      "text/plain": [
       "tuple"
      ]
     },
     "execution_count": 38,
     "metadata": {},
     "output_type": "execute_result"
    }
   ],
   "source": [
    "t=() #Empty tuple can be created but we cannot change the values\n",
    "type(t)"
   ]
  },
  {
   "cell_type": "code",
   "execution_count": 49,
   "id": "2b52064e-b692-490f-acb6-ef4ebed65fa0",
   "metadata": {},
   "outputs": [
    {
     "name": "stdout",
     "output_type": "stream",
     "text": [
      "apple\n",
      "[1, 2, 8.0, 'apple', None, False]\n",
      "('yellow', 3, 7, 8, 9, 33.1, 5j)\n"
     ]
    }
   ],
   "source": [
    "x=[1,2,8.0,'apple',None, False]\n",
    "y=('yellow',3,7,8,9,33.1,5j)\n",
    "print(x[3])\n",
    "print(x)\n",
    "print(y)"
   ]
  },
  {
   "cell_type": "code",
   "execution_count": 51,
   "id": "13180892-0b72-443d-a1a5-21c72afbcb34",
   "metadata": {},
   "outputs": [
    {
     "name": "stdout",
     "output_type": "stream",
     "text": [
      "[1, 2, 8.0, 8, None, False]\n"
     ]
    }
   ],
   "source": [
    "#changing the index value of 3 in a list\n",
    "x[3]=8\n",
    "print(x)"
   ]
  },
  {
   "cell_type": "code",
   "execution_count": 53,
   "id": "782958d4-dc70-4f31-956f-8114f39f2a99",
   "metadata": {},
   "outputs": [
    {
     "ename": "TypeError",
     "evalue": "'tuple' object does not support item assignment",
     "output_type": "error",
     "traceback": [
      "\u001b[1;31m---------------------------------------------------------------------------\u001b[0m",
      "\u001b[1;31mTypeError\u001b[0m                                 Traceback (most recent call last)",
      "Cell \u001b[1;32mIn[53], line 2\u001b[0m\n\u001b[0;32m      1\u001b[0m \u001b[38;5;66;03m#Immutable tuple so cant change \u001b[39;00m\n\u001b[1;32m----> 2\u001b[0m y[\u001b[38;5;241m1\u001b[39m]\u001b[38;5;241m=\u001b[39m\u001b[38;5;241m8\u001b[39m\n\u001b[0;32m      3\u001b[0m \u001b[38;5;28mprint\u001b[39m(y)\n\u001b[0;32m      4\u001b[0m \u001b[38;5;28;01mdel\u001b[39;00m y\n",
      "\u001b[1;31mTypeError\u001b[0m: 'tuple' object does not support item assignment"
     ]
    }
   ],
   "source": [
    "#Immutable tuple so cant change \n",
    "y[1]=8\n",
    "print(y)\n"
   ]
  },
  {
   "cell_type": "code",
   "execution_count": 54,
   "id": "44df2248-1a85-45a8-873c-d09d3241eb4f",
   "metadata": {},
   "outputs": [],
   "source": [
    "del y"
   ]
  },
  {
   "cell_type": "code",
   "execution_count": 55,
   "id": "6f316e6d-15ac-49fb-bd72-edcad3ad2343",
   "metadata": {},
   "outputs": [
    {
     "ename": "NameError",
     "evalue": "name 'y' is not defined",
     "output_type": "error",
     "traceback": [
      "\u001b[1;31m---------------------------------------------------------------------------\u001b[0m",
      "\u001b[1;31mNameError\u001b[0m                                 Traceback (most recent call last)",
      "Cell \u001b[1;32mIn[55], line 1\u001b[0m\n\u001b[1;32m----> 1\u001b[0m \u001b[38;5;28mprint\u001b[39m(y)\n",
      "\u001b[1;31mNameError\u001b[0m: name 'y' is not defined"
     ]
    }
   ],
   "source": [
    "print(y)"
   ]
  },
  {
   "cell_type": "code",
   "execution_count": 57,
   "id": "cd7b9a2e-fd8d-4be5-b7ee-6337a393c858",
   "metadata": {},
   "outputs": [
    {
     "name": "stdout",
     "output_type": "stream",
     "text": [
      "(2,)\n"
     ]
    }
   ],
   "source": [
    "print(t1)"
   ]
  },
  {
   "cell_type": "markdown",
   "id": "faa28a4d-3296-498e-8a88-de82898ec778",
   "metadata": {},
   "source": [
    "# Operations for ordered and indexing data structures\n",
    "## Slicing Index\n",
    "- l[start:stop]\n",
    "- stop should be one value higher\n",
    "## Negative Indexing \n",
    "- l[::-1]\n",
    "## Step Index\n",
    "- [start,stop,step]\n",
    "# Inbuild Functions or methods for list and tuple\n",
    "- Minimum\n",
    "- Maximum\n",
    "- Length\n",
    "- Sum\n",
    "- Append (can be used in list to add values)\n",
    "- insert (can be used to add value in a specific index)\n",
    "- remove (remove the value)\n",
    "- sort (ascending order sorted)\n",
    "- sort(reverse=True) Descending order\n",
    "\n",
    "# Inbuild Functions or methods for string\n",
    "- lower\n",
    "- upper\n",
    "- capitalize\n",
    "- title\n",
    "- in(membership function gives bool output) True or False\n",
    "\n",
    "# Inbuild Functions or methods for set\n",
    "- add is used to one value\n",
    "- update is used to multiple values\n",
    "- remove is used to remove particular value\n",
    "- clear is used to remove whole set\n",
    "- union\n",
    "- intersection\n",
    "- difference\n",
    "- pop removes random values\n",
    "\n",
    "# Inbuild Functions or methods for dictionary\n",
    "- dict.keys\n",
    "- dict.values\n",
    "- dict.items\n",
    "- delete\n",
    "- pop\n",
    "- clear\n",
    "- update using keys  "
   ]
  },
  {
   "cell_type": "code",
   "execution_count": 72,
   "id": "9a0c4f67-e24d-4197-86bc-61206ba0ce6c",
   "metadata": {},
   "outputs": [
    {
     "data": {
      "text/plain": [
       "[1, 2, 3, 4, 5, 6, 7, 8, 9, 10]"
      ]
     },
     "execution_count": 72,
     "metadata": {},
     "output_type": "execute_result"
    }
   ],
   "source": [
    "l=[1,2,3,4,5,6,7,8,9,10]\n",
    "l"
   ]
  },
  {
   "cell_type": "code",
   "execution_count": 59,
   "id": "35a94efa-c58f-4228-8737-59eb7a8d7fc0",
   "metadata": {},
   "outputs": [
    {
     "name": "stdout",
     "output_type": "stream",
     "text": [
      "[2, 8.0]\n"
     ]
    }
   ],
   "source": [
    "print(x[1:3])"
   ]
  },
  {
   "cell_type": "code",
   "execution_count": 61,
   "id": "7f1da56e-281c-4dea-a23c-1625d96846e8",
   "metadata": {},
   "outputs": [
    {
     "name": "stdout",
     "output_type": "stream",
     "text": [
      "[2, 8.0, 8]\n"
     ]
    }
   ],
   "source": [
    "print(x[1:4])"
   ]
  },
  {
   "cell_type": "code",
   "execution_count": 71,
   "id": "58738ce2-cf9b-417b-ba0e-748c2be3e3c7",
   "metadata": {},
   "outputs": [
    {
     "name": "stdout",
     "output_type": "stream",
     "text": [
      "[1, 2, 3]\n"
     ]
    }
   ],
   "source": [
    "print(l[:-1])"
   ]
  },
  {
   "cell_type": "code",
   "execution_count": 66,
   "id": "3cdb18c1-4da0-4344-b23b-6250bbb09530",
   "metadata": {},
   "outputs": [
    {
     "data": {
      "text/plain": [
       "[4, 3, 2, 1]"
      ]
     },
     "execution_count": 66,
     "metadata": {},
     "output_type": "execute_result"
    }
   ],
   "source": [
    "#Reversing a list \n",
    "l[::-1]"
   ]
  },
  {
   "cell_type": "code",
   "execution_count": 77,
   "id": "0c55f048-0286-4584-88cc-e8961f40a8fe",
   "metadata": {},
   "outputs": [
    {
     "data": {
      "text/plain": [
       "[2, 4, 6]"
      ]
     },
     "execution_count": 77,
     "metadata": {},
     "output_type": "execute_result"
    }
   ],
   "source": [
    "l[1:7:2]"
   ]
  },
  {
   "cell_type": "code",
   "execution_count": 80,
   "id": "21b7c1c6-244b-47f2-969d-39da5634a578",
   "metadata": {},
   "outputs": [
    {
     "name": "stdout",
     "output_type": "stream",
     "text": [
      "10\n",
      "1\n",
      "10\n",
      "55\n"
     ]
    }
   ],
   "source": [
    "print(len(l))\n",
    "print(min(l))\n",
    "print(max(l))\n",
    "print(sum(l))"
   ]
  },
  {
   "cell_type": "code",
   "execution_count": 81,
   "id": "cf6c6342-6177-4314-951b-6d0e6d3e7ac2",
   "metadata": {},
   "outputs": [
    {
     "name": "stdout",
     "output_type": "stream",
     "text": [
      "[1, 2, 3, 4, 5, 6, 7, 8, 9, 10, 11]\n"
     ]
    }
   ],
   "source": [
    "l.append(11)\n",
    "print(l)"
   ]
  },
  {
   "cell_type": "code",
   "execution_count": 82,
   "id": "f08b10be-7b6e-4464-96c3-6a6160f30e42",
   "metadata": {},
   "outputs": [
    {
     "name": "stdout",
     "output_type": "stream",
     "text": [
      "[1, 2, 5, 3, 4, 5, 6, 7, 8, 9, 10, 11]\n"
     ]
    }
   ],
   "source": [
    "l.insert(2,5)\n",
    "print(l)"
   ]
  },
  {
   "cell_type": "code",
   "execution_count": 83,
   "id": "de061034-6d81-424a-b6af-a6c369df5ef9",
   "metadata": {},
   "outputs": [
    {
     "name": "stdout",
     "output_type": "stream",
     "text": [
      "[1, 2, 3, 4, 5, 6, 7, 8, 9, 10, 11]\n"
     ]
    }
   ],
   "source": [
    "l.remove(5)\n",
    "print(l)"
   ]
  },
  {
   "cell_type": "code",
   "execution_count": 84,
   "id": "6823305e-945d-427f-bc6c-22141c2e5646",
   "metadata": {},
   "outputs": [
    {
     "name": "stdout",
     "output_type": "stream",
     "text": [
      "[1, 2, 3, 4, 5, 6, 7, 8, 9, 10, 11]\n"
     ]
    }
   ],
   "source": [
    "l.sort()\n",
    "print(l)"
   ]
  },
  {
   "cell_type": "code",
   "execution_count": 86,
   "id": "1c5c6d19-69f6-4058-a68c-a2ddc0f1bc28",
   "metadata": {},
   "outputs": [
    {
     "ename": "TypeError",
     "evalue": "'<' not supported between instances of 'NoneType' and 'bool'",
     "output_type": "error",
     "traceback": [
      "\u001b[1;31m---------------------------------------------------------------------------\u001b[0m",
      "\u001b[1;31mTypeError\u001b[0m                                 Traceback (most recent call last)",
      "Cell \u001b[1;32mIn[86], line 1\u001b[0m\n\u001b[1;32m----> 1\u001b[0m x\u001b[38;5;241m.\u001b[39msort(reverse\u001b[38;5;241m=\u001b[39m\u001b[38;5;28;01mTrue\u001b[39;00m)\n\u001b[0;32m      2\u001b[0m \u001b[38;5;28mprint\u001b[39m(x)\n",
      "\u001b[1;31mTypeError\u001b[0m: '<' not supported between instances of 'NoneType' and 'bool'"
     ]
    }
   ],
   "source": [
    "x.sort(reverse=True)\n",
    "print(x)"
   ]
  },
  {
   "cell_type": "code",
   "execution_count": 87,
   "id": "32218f0a-415d-42e1-909c-094494036d0d",
   "metadata": {},
   "outputs": [
    {
     "data": {
      "text/plain": [
       "11"
      ]
     },
     "execution_count": 87,
     "metadata": {},
     "output_type": "execute_result"
    }
   ],
   "source": [
    "max(l)"
   ]
  },
  {
   "cell_type": "code",
   "execution_count": 1,
   "id": "1042f9a6-77b7-41d4-9697-4e535cdabff3",
   "metadata": {},
   "outputs": [
    {
     "name": "stdout",
     "output_type": "stream",
     "text": [
      "91\n",
      "[91, 88, 63, 55, 30]\n"
     ]
    }
   ],
   "source": [
    "l=[55,88,91,30,63]\n",
    "l.sort(reverse=True)\n",
    "print(l[0])\n",
    "print(l)"
   ]
  },
  {
   "cell_type": "code",
   "execution_count": 113,
   "id": "73deaad8-37ea-4074-9a3b-16ee0ea8df10",
   "metadata": {},
   "outputs": [
    {
     "name": "stdout",
     "output_type": "stream",
     "text": [
      "e\n",
      "hello kanya\n",
      "HELLO KANYA\n",
      "Hello kanya\n",
      "Hello Kanya\n",
      "helloKanya\n"
     ]
    }
   ],
   "source": [
    "s= \"Hello Kanya\"\n",
    "s1=\"hellokanya\"\n",
    "print(s[1])\n",
    "print(s.lower())\n",
    "print(s.upper())\n",
    "print(s.capitalize())\n",
    "print(s.title())\n",
    "print(s1[0:5]+s1[5].upper()+s1[6:]) #making one letter as a Capital in a string"
   ]
  },
  {
   "cell_type": "code",
   "execution_count": 90,
   "id": "a1a88609-1367-416d-9e76-db677ecf1ea9",
   "metadata": {},
   "outputs": [
    {
     "data": {
      "text/plain": [
       "False"
      ]
     },
     "execution_count": 90,
     "metadata": {},
     "output_type": "execute_result"
    }
   ],
   "source": [
    "'hello' in s"
   ]
  },
  {
   "cell_type": "code",
   "execution_count": 100,
   "id": "3b96dad5-00c2-4568-beaa-fb073dda5007",
   "metadata": {},
   "outputs": [
    {
     "name": "stdout",
     "output_type": "stream",
     "text": [
      "11\n",
      "10\n"
     ]
    }
   ],
   "source": [
    "print(len(s))\n",
    "print(len(s1))"
   ]
  },
  {
   "cell_type": "code",
   "execution_count": 124,
   "id": "112825c9-2ec2-49fd-a0b9-955747fbcaa5",
   "metadata": {},
   "outputs": [
    {
     "name": "stdout",
     "output_type": "stream",
     "text": [
      "helloKeerthana\n"
     ]
    }
   ],
   "source": [
    "s2=s1.replace('kanya','Keerthana')\n",
    "print(s2)"
   ]
  },
  {
   "cell_type": "code",
   "execution_count": 9,
   "id": "9a6e4c09-238f-44ef-8401-a8ac880e29d3",
   "metadata": {},
   "outputs": [
    {
     "data": {
      "text/plain": [
       "set"
      ]
     },
     "execution_count": 9,
     "metadata": {},
     "output_type": "execute_result"
    }
   ],
   "source": [
    "r={1,2,3,4,5}\n",
    "type(r)"
   ]
  },
  {
   "cell_type": "code",
   "execution_count": 1,
   "id": "ac773d3e-f0ab-474b-93b9-757af70c7a1e",
   "metadata": {},
   "outputs": [
    {
     "data": {
      "text/plain": [
       "set"
      ]
     },
     "execution_count": 1,
     "metadata": {},
     "output_type": "execute_result"
    }
   ],
   "source": [
    "w=set()\n",
    "type(w)"
   ]
  },
  {
   "cell_type": "code",
   "execution_count": 11,
   "id": "0f9d4e83-b763-4db9-8640-00c7cdee9447",
   "metadata": {},
   "outputs": [
    {
     "data": {
      "text/plain": [
       "{1, 2, 3, 4, 5, 6}"
      ]
     },
     "execution_count": 11,
     "metadata": {},
     "output_type": "execute_result"
    }
   ],
   "source": [
    "r.add(6)\n",
    "r"
   ]
  },
  {
   "cell_type": "code",
   "execution_count": 12,
   "id": "a5289ab4-95e7-48d7-ad1c-1f6440c36a5a",
   "metadata": {},
   "outputs": [
    {
     "data": {
      "text/plain": [
       "{0, 1, 2, 3, 4, 5, 6, 8, 9}"
      ]
     },
     "execution_count": 12,
     "metadata": {},
     "output_type": "execute_result"
    }
   ],
   "source": [
    "r.update([9,8,0,4,3])\n",
    "r"
   ]
  },
  {
   "cell_type": "code",
   "execution_count": 13,
   "id": "f564efe9-48f1-4f0e-8138-b14e945aa56e",
   "metadata": {},
   "outputs": [
    {
     "data": {
      "text/plain": [
       "{0, 1, 3, 4, 5, 6, 8, 9}"
      ]
     },
     "execution_count": 13,
     "metadata": {},
     "output_type": "execute_result"
    }
   ],
   "source": [
    "r.remove(2)\n",
    "r"
   ]
  },
  {
   "cell_type": "code",
   "execution_count": 14,
   "id": "e627526f-7dec-45e7-a450-d011d6c8cefa",
   "metadata": {},
   "outputs": [
    {
     "data": {
      "text/plain": [
       "set()"
      ]
     },
     "execution_count": 14,
     "metadata": {},
     "output_type": "execute_result"
    }
   ],
   "source": [
    "r.clear()\n",
    "r"
   ]
  },
  {
   "cell_type": "code",
   "execution_count": 3,
   "id": "612dd32e-97dd-4b93-ac9a-b345b7332428",
   "metadata": {},
   "outputs": [
    {
     "name": "stdout",
     "output_type": "stream",
     "text": [
      "{1, 2, 3, 4, 5, 6, 7, 8, 9, 10}\n"
     ]
    }
   ],
   "source": [
    "myset={1,2,3,4,5,6,7}\n",
    "myset1={4,5,6,7,8,9,10}\n",
    "print(myset.union(myset1))"
   ]
  },
  {
   "cell_type": "code",
   "execution_count": 20,
   "id": "d8693b1c-18ec-4624-862f-e2f39ec466f5",
   "metadata": {},
   "outputs": [
    {
     "data": {
      "text/plain": [
       "{4, 5, 6, 7}"
      ]
     },
     "execution_count": 20,
     "metadata": {},
     "output_type": "execute_result"
    }
   ],
   "source": [
    "myset.intersection(myset1)\n"
   ]
  },
  {
   "cell_type": "code",
   "execution_count": 21,
   "id": "5cf24e0e-ad62-49fd-ba39-2bb852291453",
   "metadata": {},
   "outputs": [
    {
     "data": {
      "text/plain": [
       "{1, 2, 3}"
      ]
     },
     "execution_count": 21,
     "metadata": {},
     "output_type": "execute_result"
    }
   ],
   "source": [
    "myset.difference(myset1)"
   ]
  },
  {
   "cell_type": "code",
   "execution_count": 22,
   "id": "f5283f30-4bbe-4bd1-b635-e25ee9efa0a7",
   "metadata": {},
   "outputs": [
    {
     "data": {
      "text/plain": [
       "{8, 9, 10}"
      ]
     },
     "execution_count": 22,
     "metadata": {},
     "output_type": "execute_result"
    }
   ],
   "source": [
    "myset1.difference(myset)"
   ]
  },
  {
   "cell_type": "code",
   "execution_count": 4,
   "id": "729435fa-5218-4a9b-9071-d7536ddab9e2",
   "metadata": {},
   "outputs": [
    {
     "data": {
      "text/plain": [
       "{1, 2, 3, 4, 5, 6, 7, 8, 9, 10}"
      ]
     },
     "execution_count": 4,
     "metadata": {},
     "output_type": "execute_result"
    }
   ],
   "source": [
    "myset|myset1"
   ]
  },
  {
   "cell_type": "code",
   "execution_count": 5,
   "id": "b5f97979-638f-48f3-befa-3fa0c8f525b2",
   "metadata": {},
   "outputs": [
    {
     "data": {
      "text/plain": [
       "1"
      ]
     },
     "execution_count": 5,
     "metadata": {},
     "output_type": "execute_result"
    }
   ],
   "source": [
    "myset.pop()"
   ]
  },
  {
   "cell_type": "code",
   "execution_count": 7,
   "id": "44525b82-4e17-4fb8-b727-7a9dc9898e1e",
   "metadata": {},
   "outputs": [
    {
     "data": {
      "text/plain": [
       "{2, 3, 4, 5, 6, 7}"
      ]
     },
     "execution_count": 7,
     "metadata": {},
     "output_type": "execute_result"
    }
   ],
   "source": [
    "myset"
   ]
  },
  {
   "cell_type": "code",
   "execution_count": 29,
   "id": "e2207c25-5ba2-462e-9399-5dd2f2daadb4",
   "metadata": {},
   "outputs": [
    {
     "data": {
      "text/plain": [
       "{'name': 'Kanya', 'age': 25, 'Phone': '8610373856'}"
      ]
     },
     "execution_count": 29,
     "metadata": {},
     "output_type": "execute_result"
    }
   ],
   "source": [
    "#dictionaries\n",
    "person={\"name\":\"Kanya\",\"age\":25,\"Phone\":\"8610373856\"}\n",
    "person"
   ]
  },
  {
   "cell_type": "code",
   "execution_count": 9,
   "id": "6a34d573-f973-41cd-870a-e03a8c2be1b8",
   "metadata": {},
   "outputs": [
    {
     "data": {
      "text/plain": [
       "dict"
      ]
     },
     "execution_count": 9,
     "metadata": {},
     "output_type": "execute_result"
    }
   ],
   "source": [
    "type(person)"
   ]
  },
  {
   "cell_type": "code",
   "execution_count": 11,
   "id": "dde6bd4d-c106-44db-8339-9fe90b01d56f",
   "metadata": {},
   "outputs": [
    {
     "data": {
      "text/plain": [
       "'Kanya'"
      ]
     },
     "execution_count": 11,
     "metadata": {},
     "output_type": "execute_result"
    }
   ],
   "source": [
    "person[\"name\"]"
   ]
  },
  {
   "cell_type": "code",
   "execution_count": 13,
   "id": "f0c5ae05-edf1-4984-be3f-2d84491e7487",
   "metadata": {},
   "outputs": [
    {
     "data": {
      "text/plain": [
       "'8610373856'"
      ]
     },
     "execution_count": 13,
     "metadata": {},
     "output_type": "execute_result"
    }
   ],
   "source": [
    "person['Phone']"
   ]
  },
  {
   "cell_type": "code",
   "execution_count": 14,
   "id": "ab47e8ec-8db7-48f3-8d2d-4a064eefea13",
   "metadata": {},
   "outputs": [
    {
     "data": {
      "text/plain": [
       "{'name': 'Kanya', 'age': 25, 'Phone': '9841442731'}"
      ]
     },
     "execution_count": 14,
     "metadata": {},
     "output_type": "execute_result"
    }
   ],
   "source": [
    "person['Phone']='9841442731'\n",
    "person"
   ]
  },
  {
   "cell_type": "code",
   "execution_count": 28,
   "id": "67c612ca-82c0-472e-b6b0-b2e42af6bd68",
   "metadata": {},
   "outputs": [
    {
     "ename": "NameError",
     "evalue": "name 'person' is not defined",
     "output_type": "error",
     "traceback": [
      "\u001b[1;31m---------------------------------------------------------------------------\u001b[0m",
      "\u001b[1;31mNameError\u001b[0m                                 Traceback (most recent call last)",
      "Cell \u001b[1;32mIn[28], line 1\u001b[0m\n\u001b[1;32m----> 1\u001b[0m person\u001b[38;5;241m.\u001b[39mkeys()\n",
      "\u001b[1;31mNameError\u001b[0m: name 'person' is not defined"
     ]
    }
   ],
   "source": [
    "person.keys()"
   ]
  },
  {
   "cell_type": "code",
   "execution_count": 17,
   "id": "0ad78bf2-2271-439a-a8ce-2408f7fea837",
   "metadata": {},
   "outputs": [
    {
     "data": {
      "text/plain": [
       "dict_values(['Kanya', 25, '9841442731'])"
      ]
     },
     "execution_count": 17,
     "metadata": {},
     "output_type": "execute_result"
    }
   ],
   "source": [
    "person.values()"
   ]
  },
  {
   "cell_type": "code",
   "execution_count": 18,
   "id": "db8a5d8f-5a5b-47d9-acbe-e7e298e5bca5",
   "metadata": {},
   "outputs": [
    {
     "data": {
      "text/plain": [
       "dict_items([('name', 'Kanya'), ('age', 25), ('Phone', '9841442731')])"
      ]
     },
     "execution_count": 18,
     "metadata": {},
     "output_type": "execute_result"
    }
   ],
   "source": [
    "person.items()"
   ]
  },
  {
   "cell_type": "code",
   "execution_count": 25,
   "id": "e4faaa37-4abf-43e8-9220-760d8344b9e8",
   "metadata": {},
   "outputs": [],
   "source": [
    "del person"
   ]
  },
  {
   "cell_type": "code",
   "execution_count": 30,
   "id": "e33d9b66-53db-4b80-9e16-efb22edb009f",
   "metadata": {},
   "outputs": [
    {
     "data": {
      "text/plain": [
       "{'name': 'Kanya', 'age': 25, 'Phone': '8610373856'}"
      ]
     },
     "execution_count": 30,
     "metadata": {},
     "output_type": "execute_result"
    }
   ],
   "source": [
    "person"
   ]
  },
  {
   "cell_type": "code",
   "execution_count": 31,
   "id": "cf7b0113-5535-4bf6-8b95-fb892b976132",
   "metadata": {},
   "outputs": [],
   "source": [
    "person['city']='Chennai'"
   ]
  },
  {
   "cell_type": "code",
   "execution_count": 32,
   "id": "a1a79eb0-2d1e-4e23-a614-514b30637fbb",
   "metadata": {},
   "outputs": [
    {
     "data": {
      "text/plain": [
       "{'name': 'Kanya', 'age': 25, 'Phone': '8610373856', 'city': 'Chennai'}"
      ]
     },
     "execution_count": 32,
     "metadata": {},
     "output_type": "execute_result"
    }
   ],
   "source": [
    "person"
   ]
  },
  {
   "cell_type": "code",
   "execution_count": 33,
   "id": "0f205b76-0ae4-4062-98b5-8f8c71cbec32",
   "metadata": {},
   "outputs": [],
   "source": [
    "del person['age']"
   ]
  },
  {
   "cell_type": "code",
   "execution_count": 34,
   "id": "164a8d98-b6fd-4ca4-8f4b-8a4633c9abe0",
   "metadata": {},
   "outputs": [
    {
     "data": {
      "text/plain": [
       "{'name': 'Kanya', 'Phone': '8610373856', 'city': 'Chennai'}"
      ]
     },
     "execution_count": 34,
     "metadata": {},
     "output_type": "execute_result"
    }
   ],
   "source": [
    "person"
   ]
  },
  {
   "cell_type": "code",
   "execution_count": 35,
   "id": "58b37e06-409f-4cb3-9793-9623c19bbbf2",
   "metadata": {},
   "outputs": [
    {
     "name": "stdout",
     "output_type": "stream",
     "text": [
      "{'x': 1, 'y': 3, 'z': 4}\n"
     ]
    }
   ],
   "source": [
    "a={'x':1,'y':2}\n",
    "b={'y':3,'z':4}\n",
    "a.update(b)\n",
    "print(a)"
   ]
  },
  {
   "cell_type": "code",
   "execution_count": null,
   "id": "af57cf5f-5654-40b9-ad86-d68d49195b0a",
   "metadata": {},
   "outputs": [],
   "source": []
  }
 ],
 "metadata": {
  "kernelspec": {
   "display_name": "Python 3 (ipykernel)",
   "language": "python",
   "name": "python3"
  },
  "language_info": {
   "codemirror_mode": {
    "name": "ipython",
    "version": 3
   },
   "file_extension": ".py",
   "mimetype": "text/x-python",
   "name": "python",
   "nbconvert_exporter": "python",
   "pygments_lexer": "ipython3",
   "version": "3.13.5"
  }
 },
 "nbformat": 4,
 "nbformat_minor": 5
}
